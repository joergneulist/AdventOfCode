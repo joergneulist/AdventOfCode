{
 "cells": [
  {
   "cell_type": "code",
   "execution_count": null,
   "id": "1b6cabbf-b1e8-4129-9f2b-310f29ceaa27",
   "metadata": {},
   "outputs": [],
   "source": [
    "%load_ext autoreload\n",
    "%autoreload 2\n",
    "from lib import load, timing\n",
    "\n",
    "YEAR = 2024\n",
    "DAY = 2\n",
    "TESTDATA = [\n",
    "    None,\n",
    "    '7 6 4 2 1\\n1 2 7 8 9\\n9 7 6 2 1\\n1 3 2 4 5\\n8 6 4 4 1\\n1 3 6 7 9\\n'\n",
    "][0]\n",
    "TEST = TESTDATA is None"
   ]
  },
  {
   "cell_type": "code",
   "execution_count": null,
   "id": "ab695477-5c44-489c-921c-e3aa5605e477",
   "metadata": {},
   "outputs": [],
   "source": [
    "@timing\n",
    "def prepare_data():\n",
    "    data = load(YEAR, DAY, split_lines=True, test=TESTDATA if TEST else None)\n",
    "    if data['test']:\n",
    "        print(data['split'])\n",
    "\n",
    "    # Create integer rows\n",
    "    ints = [[int(i) for i in row.split()] for row in data['split']]\n",
    "    if data['test']:\n",
    "        print(ints)\n",
    "\n",
    "    return ints"
   ]
  },
  {
   "cell_type": "code",
   "execution_count": null,
   "id": "dc9ba5f6-b951-4b18-b18e-ace6e78e7bf0",
   "metadata": {},
   "outputs": [],
   "source": [
    "# Level 1: identify rows that are monotonically increasing or decreasing, and where neighbours are at most 3 steps apart\n",
    "def safe(row):\n",
    "    monotonous = (sorted(row) == row) or (sorted(row, reverse=True) == row)\n",
    "    steps = [abs(a-b) for a,b in zip(row[1:], row[:-1])]\n",
    "    tight = max(steps) <= 3\n",
    "    loose = min(steps) >= 1\n",
    "    return monotonous and tight and loose\n",
    "\n",
    "@timing\n",
    "def level1(data):\n",
    "    return sum([safe(row) for row in ints])\n",
    "\n",
    "\n",
    "ints = prepare_data()\n",
    "print(level1(ints))"
   ]
  },
  {
   "cell_type": "code",
   "execution_count": null,
   "id": "582948ce-c16c-41d8-842a-a2799393ed88",
   "metadata": {},
   "outputs": [],
   "source": [
    "# Level 2: same as before, but if removing one element makes a row safe, consider it safe\n",
    "def trunc_list(lst, index):\n",
    "    l = lst.copy()\n",
    "    del l[index]\n",
    "    return l\n",
    "\n",
    "def tolerant_safe(row):\n",
    "    return safe(row)\\\n",
    "        or any([safe(trunc_list(row, i)) for i in range(len(row))])\n",
    "\n",
    "@timing\n",
    "def level2(ints):\n",
    "    return sum([tolerant_safe(row) for row in ints])\n",
    "\n",
    "\n",
    "ints = prepare_data()\n",
    "print(level2(ints))"
   ]
  }
 ],
 "metadata": {
  "kernelspec": {
   "display_name": "Python 3 (ipykernel)",
   "language": "python",
   "name": "python3"
  },
  "language_info": {
   "codemirror_mode": {
    "name": "ipython",
    "version": 3
   },
   "file_extension": ".py",
   "mimetype": "text/x-python",
   "name": "python",
   "nbconvert_exporter": "python",
   "pygments_lexer": "ipython3",
   "version": "3.12.3"
  }
 },
 "nbformat": 4,
 "nbformat_minor": 5
}
