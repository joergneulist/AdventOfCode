{
 "cells": [
  {
   "cell_type": "code",
   "execution_count": null,
   "id": "ab695477-5c44-489c-921c-e3aa5605e477",
   "metadata": {
    "editable": true,
    "slideshow": {
     "slide_type": ""
    },
    "tags": []
   },
   "outputs": [],
   "source": [
    "%load_ext autoreload\n",
    "%autoreload 2\n",
    "from lib import load, timing\n",
    "\n",
    "YEAR = 2024\n",
    "DAY = xx\n",
    "TESTDATA = [\n",
    "    None,\n",
    "    '\\n'\n",
    "][0]\n",
    "TEST = TESTDATA is None"
   ]
  },
  {
   "cell_type": "code",
   "execution_count": null,
   "id": "dc9ba5f6-b951-4b18-b18e-ace6e78e7bf0",
   "metadata": {
    "editable": true,
    "slideshow": {
     "slide_type": ""
    },
    "tags": []
   },
   "outputs": [],
   "source": [
    "@timing\n",
    "def prepare_data():\n",
    "    data = load(YEAR, DAY, split_lines=True, test=TESTDATA if TEST else None)\n",
    "    return None"
   ]
  },
  {
   "cell_type": "code",
   "execution_count": null,
   "id": "2a116e95-b3ae-4638-b81d-7970502b00c8",
   "metadata": {},
   "outputs": [],
   "source": [
    "# Level 1\n",
    "@timing\n",
    "def level1(data):\n",
    "    return 0\n",
    "\n",
    "print(level1(*prepare_data()))"
   ]
  },
  {
   "cell_type": "code",
   "execution_count": null,
   "id": "48bfd60c-40dd-4722-8689-9fe9d34c92da",
   "metadata": {},
   "outputs": [],
   "source": [
    "# Level 2\n",
    "@timing\n",
    "def level2(data):\n",
    "    return 0\n",
    "\n",
    "print(level2(*prepare_data()))"
   ]
  }
 ],
 "metadata": {
  "kernelspec": {
   "display_name": "Python 3 (ipykernel)",
   "language": "python",
   "name": "python3"
  },
  "language_info": {
   "codemirror_mode": {
    "name": "ipython",
    "version": 3
   },
   "file_extension": ".py",
   "mimetype": "text/x-python",
   "name": "python",
   "nbconvert_exporter": "python",
   "pygments_lexer": "ipython3",
   "version": "3.12.3"
  }
 },
 "nbformat": 4,
 "nbformat_minor": 5
}
