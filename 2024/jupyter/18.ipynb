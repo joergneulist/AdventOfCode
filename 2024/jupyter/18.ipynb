{
 "cells": [
  {
   "cell_type": "code",
   "execution_count": null,
   "id": "ab695477-5c44-489c-921c-e3aa5605e477",
   "metadata": {},
   "outputs": [],
   "source": [
    "%load_ext autoreload\n",
    "%autoreload 2\n",
    "from lib import load, timing\n",
    "\n",
    "YEAR = 2024\n",
    "DAY = 18\n",
    "DATA_IDX = 0\n",
    "SIZE = [71, 7][DATA_IDX]\n",
    "AMOUNT = [1024, 12][DATA_IDX]\n",
    "TESTDATA = [\n",
    "    None,\n",
    "    '5,4\\n4,2\\n4,5\\n3,0\\n2,1\\n6,3\\n2,4\\n1,5\\n0,6\\n3,3\\n2,6\\n5,1\\n1,2\\n5,5\\n2,5\\n6,5\\n1,4\\n0,4\\n6,4\\n1,1\\n6,1\\n1,0\\n0,5\\n1,6\\n2,0\\n'\n",
    "][DATA_IDX]\n",
    "TEST = TESTDATA is None"
   ]
  },
  {
   "cell_type": "code",
   "execution_count": null,
   "id": "38eaa4e0-48fa-40ed-9482-90a8476099a9",
   "metadata": {},
   "outputs": [],
   "source": [
    "@timing\n",
    "def prepare_data():\n",
    "    data = load(YEAR, DAY, split_lines=True, test=TESTDATA)\n",
    "\n",
    "    coords = [tuple([int(i) for i in row.split(',')]) for row in data['split']]\n",
    "    return SIZE, AMOUNT, coords"
   ]
  },
  {
   "cell_type": "code",
   "execution_count": null,
   "id": "c60b9669-7b3a-4d38-ac4e-92c0074a2fce",
   "metadata": {},
   "outputs": [],
   "source": [
    "# Level 1\n",
    "from lib import CharGrid\n",
    "import numpy as np\n",
    "\n",
    "\n",
    "class Price:\n",
    "    def __init__(self, shape):\n",
    "        self.price = -np.ones(shape, dtype=int)\n",
    "        \n",
    "    def __getitem__(self, pos):\n",
    "        return self.price[pos[0]][pos[1]]\n",
    "\n",
    "    def __setitem__(self, pos, value):\n",
    "        self.price[pos[0]][pos[1]] = value\n",
    "\n",
    "\n",
    "def shortest_path(grid, size):\n",
    "    price = Price((size, size))\n",
    "    queue = [(0, 0)]\n",
    "    price[(0, 0)] = 0\n",
    "    while len(queue) > 0:\n",
    "        old_pos = queue.pop(0)\n",
    "        new_price = price[old_pos] + 1\n",
    "        for pos in grid.neighbours(old_pos):\n",
    "            if grid[pos] == '.' and (price[pos] < 0 or price[pos] > new_price):\n",
    "                price[pos] = new_price\n",
    "                queue.append(pos)\n",
    "    return price[(size - 1, size - 1)]\n",
    "\n",
    "    \n",
    "@timing\n",
    "def level1(size, amount, coords):\n",
    "    grid = CharGrid(['.' * size for i in range(size)])\n",
    "    for pos in coords[:amount]:\n",
    "        grid[pos] = '#'\n",
    "\n",
    "    return shortest_path(grid, size)\n",
    "\n",
    "print(level1(*prepare_data()))"
   ]
  },
  {
   "cell_type": "code",
   "execution_count": null,
   "id": "9a50803f-4bc6-4b38-8374-e88c66d83666",
   "metadata": {},
   "outputs": [],
   "source": [
    "# Level 2:\n",
    "@timing\n",
    "def level2(size, amount, coords):\n",
    "    grid = CharGrid(['.' * size for i in range(size)])\n",
    "    for pos in coords[:amount]:\n",
    "        grid[pos] = '#'\n",
    "\n",
    "    cost = 1\n",
    "    byte_pos = amount\n",
    "    while cost > 0:\n",
    "        drop_pos = coords[byte_pos]\n",
    "        byte_pos += 1\n",
    "        grid[drop_pos] = '#'\n",
    "        cost = shortest_path(grid, size)\n",
    "    \n",
    "    return drop_pos\n",
    "\n",
    "\n",
    "print(level2(*prepare_data()))"
   ]
  }
 ],
 "metadata": {
  "kernelspec": {
   "display_name": "Python 3 (ipykernel)",
   "language": "python",
   "name": "python3"
  },
  "language_info": {
   "codemirror_mode": {
    "name": "ipython",
    "version": 3
   },
   "file_extension": ".py",
   "mimetype": "text/x-python",
   "name": "python",
   "nbconvert_exporter": "python",
   "pygments_lexer": "ipython3",
   "version": "3.12.3"
  }
 },
 "nbformat": 4,
 "nbformat_minor": 5
}
