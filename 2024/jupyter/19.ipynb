{
 "cells": [
  {
   "cell_type": "code",
   "execution_count": null,
   "id": "ab695477-5c44-489c-921c-e3aa5605e477",
   "metadata": {},
   "outputs": [],
   "source": [
    "%load_ext autoreload\n",
    "%autoreload 2\n",
    "from lib import load, timing\n",
    "\n",
    "YEAR = 2024\n",
    "DAY = 19\n",
    "TESTDATA = [\n",
    "    None,\n",
    "    'r, wr, b, g, bwu, rb, gb, br\\n\\nbrwrr\\nbggr\\ngbbr\\nrrbgbr\\nubwu\\nbwurrg\\nbrgr\\nbbrgwb\\n'\n",
    "][0]\n",
    "TEST = TESTDATA is None"
   ]
  },
  {
   "cell_type": "code",
   "execution_count": null,
   "id": "dc9ba5f6-b951-4b18-b18e-ace6e78e7bf0",
   "metadata": {},
   "outputs": [],
   "source": [
    "@timing\n",
    "def prepare_data():\n",
    "    data = load(YEAR, DAY, split_lines=True, test=TESTDATA)\n",
    "\n",
    "    towels = [t.strip() for t in data['split'][0].split(', ')]\n",
    "    designs = data['split'][2:]\n",
    "\n",
    "    return towels, designs"
   ]
  },
  {
   "cell_type": "code",
   "execution_count": null,
   "id": "e35fea7f-b9aa-4d71-890b-83c20e44cd30",
   "metadata": {},
   "outputs": [],
   "source": [
    "# Level 1\n",
    "def build_design(towels, design, cache):\n",
    "    if not design in cache:\n",
    "        count = 0\n",
    "        for towel in towels:\n",
    "            if design.startswith(towel):\n",
    "                if len(design) == len(towel):\n",
    "                    count += 1\n",
    "                else:\n",
    "                    count += build_design(towels, design[len(towel):], cache)\n",
    "        cache[design] = count\n",
    "    return cache[design]\n",
    "\n",
    "\n",
    "@timing\n",
    "def level1(towels, designs):\n",
    "    cache = {}\n",
    "    options = [build_design(towels, design, cache) for design in designs]\n",
    "    return len([p for p in options if p > 0])\n",
    "    #print(sum(options))\n",
    "\n",
    "\n",
    "print(level1(*prepare_data()))"
   ]
  },
  {
   "cell_type": "code",
   "execution_count": null,
   "id": "4862f91e-efb2-48f8-8503-22eba1cb3e4d",
   "metadata": {},
   "outputs": [],
   "source": [
    "# Level 2\n",
    "@timing\n",
    "def level2(towels, designs):\n",
    "    cache = {}\n",
    "    options = [build_design(towels, design, cache) for design in designs]\n",
    "    return sum(options)\n",
    "\n",
    "\n",
    "print(level2(*prepare_data()))"
   ]
  }
 ],
 "metadata": {
  "kernelspec": {
   "display_name": "Python 3 (ipykernel)",
   "language": "python",
   "name": "python3"
  },
  "language_info": {
   "codemirror_mode": {
    "name": "ipython",
    "version": 3
   },
   "file_extension": ".py",
   "mimetype": "text/x-python",
   "name": "python",
   "nbconvert_exporter": "python",
   "pygments_lexer": "ipython3",
   "version": "3.12.3"
  }
 },
 "nbformat": 4,
 "nbformat_minor": 5
}
