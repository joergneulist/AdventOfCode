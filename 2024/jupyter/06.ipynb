{
 "cells": [
  {
   "cell_type": "code",
   "execution_count": null,
   "id": "03619d81-c6d2-462a-b338-ba89573661df",
   "metadata": {},
   "outputs": [],
   "source": [
    "%load_ext autoreload\n",
    "%autoreload 2\n",
    "from lib import load, timing\n",
    "\n",
    "YEAR = 2024\n",
    "DAY = 6\n",
    "TESTDATA = [\n",
    "    None,\n",
    "    '....#.....\\n.........#\\n..........\\n..#.......\\n.......#..\\n..........\\n.#..^.....\\n........#.\\n#.........\\n......#...\\n'\n",
    "][0]\n",
    "TEST = TESTDATA is None"
   ]
  },
  {
   "cell_type": "code",
   "execution_count": null,
   "id": "ab695477-5c44-489c-921c-e3aa5605e477",
   "metadata": {},
   "outputs": [],
   "source": [
    "from lib import CharGrid\n",
    "\n",
    "@timing\n",
    "def prepare_data():\n",
    "    data = load(YEAR, DAY, split_lines=True, test=TESTDATA if TEST else None)\n",
    "    grid = CharGrid(data['split'])\n",
    "        \n",
    "    guard = grid.find('^')\n",
    "    grid[guard] = '.'\n",
    "\n",
    "    return grid, guard"
   ]
  },
  {
   "cell_type": "code",
   "execution_count": null,
   "id": "dc9ba5f6-b951-4b18-b18e-ace6e78e7bf0",
   "metadata": {},
   "outputs": [],
   "source": [
    "# Level 1: Track position of guard walking through the grid, counting their steps\n",
    "\n",
    "import numpy as np\n",
    "\n",
    "def visit(grid, pos, newvalue = None):\n",
    "    if newvalue is not None:\n",
    "        grid[pos[1]][pos[0]] = newvalue\n",
    "    return grid[pos[1]][pos[0]]\n",
    "\n",
    "def trace_guard(grid, start):\n",
    "    history = set()\n",
    "    grid_size = np.array(grid.shape)\n",
    "    direction = 0 # 0 - north, 1 - east, 2 - south, 3 - west, q.v. grid.neighbours()\n",
    "    position = start\n",
    "    while grid.is_inside(position):\n",
    "        state = (position, direction)\n",
    "        if state in history:\n",
    "            return None\n",
    "        history.add(state)\n",
    "        nextp = grid.neighbours(position)[direction]\n",
    "        if grid.is_inside(nextp) and grid[nextp] == '#':\n",
    "            direction = (direction + 1) % 4\n",
    "        else:\n",
    "            position = nextp\n",
    "    return set([pos for pos, dir in history])\n",
    "\n",
    "@timing\n",
    "def level1(grid, initial):\n",
    "    path = trace_guard(grid, initial)\n",
    "    return len(path)\n",
    "\n",
    "\n",
    "grid, initial = prepare_data()\n",
    "print(level1(grid, initial))"
   ]
  },
  {
   "cell_type": "code",
   "execution_count": null,
   "id": "9a50803f-4bc6-4b38-8374-e88c66d83666",
   "metadata": {},
   "outputs": [],
   "source": [
    "# Level 2: Find positions for obstacles that force the guard on a closed loop\n",
    "@timing\n",
    "def level2(grid, initial):\n",
    "    loopers = []\n",
    "    for pos in trace_guard(grid, initial):\n",
    "        if pos != initial:\n",
    "            grid[pos] = '#'\n",
    "            if trace_guard(grid, initial) is None:\n",
    "                loopers.append(pos)\n",
    "            grid[pos] = '.'\n",
    "    return len(loopers)\n",
    "\n",
    "grid, initial = prepare_data()\n",
    "print(level2(grid, initial))"
   ]
  }
 ],
 "metadata": {
  "kernelspec": {
   "display_name": "Python 3 (ipykernel)",
   "language": "python",
   "name": "python3"
  },
  "language_info": {
   "codemirror_mode": {
    "name": "ipython",
    "version": 3
   },
   "file_extension": ".py",
   "mimetype": "text/x-python",
   "name": "python",
   "nbconvert_exporter": "python",
   "pygments_lexer": "ipython3",
   "version": "3.12.3"
  }
 },
 "nbformat": 4,
 "nbformat_minor": 5
}
