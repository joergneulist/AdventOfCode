{
 "cells": [
  {
   "cell_type": "code",
   "execution_count": null,
   "id": "4ca1e131-54c0-4c7f-952c-21362c6cefea",
   "metadata": {
    "editable": true,
    "slideshow": {
     "slide_type": ""
    },
    "tags": []
   },
   "outputs": [],
   "source": [
    "%load_ext autoreload\n",
    "%autoreload 2\n",
    "from lib import load, timing\n",
    "\n",
    "YEAR = 2024\n",
    "DAY = 14\n",
    "TESTDATA = [\n",
    "    None,\n",
    "    'p=0,4 v=3,-3\\np=6,3 v=-1,-3\\np=10,3 v=-1,2\\np=2,0 v=2,-1\\np=0,0 v=1,3\\np=3,0 v=-2,-2\\np=7,6 v=-1,-3\\np=3,0 v=-1,-2\\np=9,3 v=2,3\\np=7,3 v=-1,2\\np=2,4 v=2,-3\\np=9,5 v=-3,-3\\n'\n",
    "][0]\n",
    "TEST = TESTDATA is None"
   ]
  },
  {
   "cell_type": "code",
   "execution_count": null,
   "id": "ab695477-5c44-489c-921c-e3aa5605e477",
   "metadata": {
    "editable": true,
    "slideshow": {
     "slide_type": ""
    },
    "tags": []
   },
   "outputs": [],
   "source": [
    "import re\n",
    "import numpy as np\n",
    "\n",
    "@timing\n",
    "def prepare_data():\n",
    "    data = load(YEAR, DAY, split_lines=True, test=TESTDATA if TEST else None)\n",
    "\n",
    "    if TEST:\n",
    "        shape = np.array([11, 7])\n",
    "    else:\n",
    "        shape = np.array([101, 103])\n",
    "    \n",
    "    re_robot = re.compile('p=([-0-9]+),([-0-9]+) v=([-0-9]+),([-0-9]+)')\n",
    "    \n",
    "    p = []\n",
    "    v = []\n",
    "    for row in data['split']:\n",
    "        result = re_robot.search(row)\n",
    "        p.append([int(result.group(i)) for i in range(1, 3)])\n",
    "        v.append([int(result.group(i)) for i in range(3, 5)])\n",
    "    \n",
    "    initial = np.array(p)\n",
    "    velocity = np.array(v)\n",
    "\n",
    "    return shape, initial, velocity"
   ]
  },
  {
   "cell_type": "code",
   "execution_count": null,
   "id": "dc9ba5f6-b951-4b18-b18e-ace6e78e7bf0",
   "metadata": {},
   "outputs": [],
   "source": [
    "# Level 1\n",
    "from collections import Counter\n",
    "\n",
    "def get_quadrant(idx):\n",
    "    #    x < mid y < mid x > mid y > mid\n",
    "    quadrants = {\n",
    "        (True,   True,   False,  False): 0, # top left\n",
    "        (True,   False,  False,  True):  1, # bottom left\n",
    "        (False,  True,   True,   False): 2, # top right\n",
    "        (False,  False,  True,   True):  3} # bottom right\n",
    "    return quadrants.get(tuple(list(idx)), 4)\n",
    "\n",
    "def count_by_quadrant(shape, p):\n",
    "    mid = shape // 2\n",
    "    quad = np.apply_along_axis(get_quadrant, 1, np.hstack((p < mid, p > mid)))\n",
    "    count = Counter(quad)\n",
    "    return [count[i] for i in range(4)]\n",
    "\n",
    "\n",
    "@timing\n",
    "def level1(shape, initial, velocity):\n",
    "    moved = (initial + velocity * 100) % shape\n",
    "    count = count_by_quadrant(shape, moved)\n",
    "    return np.prod(count)\n",
    "\n",
    "\n",
    "shape, initial, velocity = prepare_data()\n",
    "print(level1(shape, initial, velocity))"
   ]
  },
  {
   "cell_type": "code",
   "execution_count": null,
   "id": "9f71fee3-fc21-4e80-b66f-b09afbb058a9",
   "metadata": {},
   "outputs": [],
   "source": [
    "# Level 2\n",
    "def compactness(p):\n",
    "    # Use variance of robot positions to measure compactness and try to recognise close bundlings:\n",
    "    center = np.mean(p, axis=0)\n",
    "    return int(np.sum((p - center) ** 2))\n",
    "\n",
    "def draw(shape, p):\n",
    "    grid = np.zeros(shape).transpose()\n",
    "    for r in p:\n",
    "        grid[r[1],r[0]] += 1\n",
    "    print('\\n'.join([''.join(['#' if c else ' ' for c in row]) for row in grid]))\n",
    "\n",
    "\n",
    "@timing\n",
    "def level2(shape, initial, velocity):\n",
    "    p = initial\n",
    "    best_c = compactness(p)\n",
    "    best_t = 0\n",
    "    for t in range(1, 10000):\n",
    "        p = (p + velocity) % shape\n",
    "        c = compactness(p)\n",
    "        if c < 400000:\n",
    "            if c < best_c:\n",
    "                best_c = c\n",
    "                best_p = p\n",
    "                best_t = t\n",
    "    draw(shape, best_p)\n",
    "    return best_t\n",
    "\n",
    "\n",
    "shape, initial, velocity = prepare_data()\n",
    "print(level2(shape, initial, velocity))"
   ]
  }
 ],
 "metadata": {
  "kernelspec": {
   "display_name": "Python 3 (ipykernel)",
   "language": "python",
   "name": "python3"
  },
  "language_info": {
   "codemirror_mode": {
    "name": "ipython",
    "version": 3
   },
   "file_extension": ".py",
   "mimetype": "text/x-python",
   "name": "python",
   "nbconvert_exporter": "python",
   "pygments_lexer": "ipython3",
   "version": "3.12.3"
  }
 },
 "nbformat": 4,
 "nbformat_minor": 5
}
