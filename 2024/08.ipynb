{
 "cells": [
  {
   "cell_type": "code",
   "execution_count": null,
   "id": "987f3540-0751-43af-af21-af2e484de181",
   "metadata": {},
   "outputs": [],
   "source": [
    "%load_ext autoreload\n",
    "%autoreload 2\n",
    "from aoc.lib import load, timing\n",
    "\n",
    "YEAR = 2024\n",
    "DAY = 8"
   ]
  },
  {
   "cell_type": "code",
   "execution_count": null,
   "id": "ab695477-5c44-489c-921c-e3aa5605e477",
   "metadata": {},
   "outputs": [],
   "source": [
    "from collections import defaultdict\n",
    "import numpy as np\n",
    "from aoc.lib import CharGrid\n",
    "\n",
    "@timing\n",
    "def prepare_data():\n",
    "    data = load(YEAR, DAY, split_lines=True)#, test='............\\n........0...\\n.....0......\\n.......0....\\n....0.......\\n......A.....\\n............\\n............\\n........A...\\n.........A..\\n............\\n............\\n')\n",
    "    grid = CharGrid(data['split'])\n",
    "    antennae = defaultdict(list)\n",
    "\n",
    "    for pos in grid.walk():\n",
    "        freq = grid[pos]\n",
    "        if freq != '.':\n",
    "            antennae[freq].append(np.array(pos))\n",
    "\n",
    "    return grid, antennae"
   ]
  },
  {
   "cell_type": "code",
   "execution_count": null,
   "id": "670ddcd7-ed09-434a-8846-1bafb4d6f9bb",
   "metadata": {},
   "outputs": [],
   "source": [
    "# Level 1: Collect all \"antinodes\" created by mirroring same-frequency antennae on each other, and count them:\n",
    "from itertools import combinations\n",
    "\n",
    "def add_antinode(antinodes, grid, pos):\n",
    "    pos = tuple(pos)\n",
    "    if grid.is_inside(pos):\n",
    "        antinodes.add(pos)\n",
    "\n",
    "@timing\n",
    "def level1(grid, antennae):\n",
    "    antinodes = set()\n",
    "    for freq, ant in antennae.items():\n",
    "        for pos1, pos2 in combinations(ant, 2):\n",
    "            add_antinode(antinodes, grid, 2 * pos1 - pos2)\n",
    "            add_antinode(antinodes, grid, 2 * pos2 - pos1)\n",
    "    return len(antinodes)\n",
    "\n",
    "\n",
    "grid, antennae = prepare_data()\n",
    "print(level1(grid, antennae))"
   ]
  },
  {
   "cell_type": "code",
   "execution_count": null,
   "id": "9a50803f-4bc6-4b38-8374-e88c66d83666",
   "metadata": {},
   "outputs": [],
   "source": [
    "# Level 2: Same, but now antinodes are wherever the connection of two antennae falls directly on a grid point\n",
    "# Approach: From the difference of each antennae pair find the smallest integer step, and use that to populate the antinode list\n",
    "from math import gcd\n",
    "\n",
    "def gen_antinodes(grid, a1, a2):\n",
    "    # calc smallest integer step\n",
    "    if a2[0] > a1[0]:\n",
    "        diff = a2 - a1\n",
    "    else:\n",
    "        diff = a1 - a2\n",
    "    div = gcd(diff[0], diff[1])\n",
    "    diff = diff // div\n",
    "    \n",
    "    # go to first plausible column\n",
    "    startx = a1[0] % diff[0]\n",
    "    starty = a1[1] - (a1[0] - startx) * diff[1] // diff[0]\n",
    "    a = np.array([startx, starty])\n",
    "    \n",
    "    # Move until inside:\n",
    "    while not grid.is_inside(tuple(a)):\n",
    "        a += diff\n",
    "        \n",
    "    # track antinodes:\n",
    "    antinodes = set()\n",
    "    while grid.is_inside(tuple(a)):\n",
    "        antinodes.add(tuple(a))\n",
    "        a += diff\n",
    "        \n",
    "    return antinodes\n",
    "\n",
    "\n",
    "@timing\n",
    "def level2(grid, antennae):\n",
    "    antinodes = set()\n",
    "    for freq, ant in antennae.items():\n",
    "        for pos1, pos2 in combinations(ant, 2):\n",
    "            antinodes = antinodes.union(gen_antinodes(grid, pos1, pos2))\n",
    "    return len(antinodes)\n",
    "\n",
    "\n",
    "grid, antennae = prepare_data()\n",
    "print(level2(grid, antennae))"
   ]
  }
 ],
 "metadata": {
  "kernelspec": {
   "display_name": "Python 3 (ipykernel)",
   "language": "python",
   "name": "python3"
  },
  "language_info": {
   "codemirror_mode": {
    "name": "ipython",
    "version": 3
   },
   "file_extension": ".py",
   "mimetype": "text/x-python",
   "name": "python",
   "nbconvert_exporter": "python",
   "pygments_lexer": "ipython3",
   "version": "3.12.3"
  }
 },
 "nbformat": 4,
 "nbformat_minor": 5
}
