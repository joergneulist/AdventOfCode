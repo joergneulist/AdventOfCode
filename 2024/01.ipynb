{
 "cells": [
  {
   "cell_type": "code",
   "execution_count": null,
   "id": "ab695477-5c44-489c-921c-e3aa5605e477",
   "metadata": {},
   "outputs": [],
   "source": [
    "from aoc.lib import load\n",
    "data = load(2024, 1, split_lines=True)#, test='3   4\\n4   3\\n2   5\\n1   3\\n3   9\\n3   3\\n')\n",
    "print(data['split'])"
   ]
  },
  {
   "cell_type": "code",
   "execution_count": null,
   "id": "dc9ba5f6-b951-4b18-b18e-ace6e78e7bf0",
   "metadata": {},
   "outputs": [],
   "source": [
    "import numpy as np\n",
    "\n",
    "# Create a matrix and transpose\n",
    "mat = np.matrix([[int(i) for i in row.split()] for row in data['split']]).transpose()\n",
    "print(mat)"
   ]
  },
  {
   "cell_type": "code",
   "execution_count": null,
   "id": "582948ce-c16c-41d8-842a-a2799393ed88",
   "metadata": {},
   "outputs": [],
   "source": [
    "# Level 1: Sort rows, calculate their element distance and sum that\n",
    "sort = np.sort(mat)\n",
    "diff = np.abs(sort[1] - sort[0])\n",
    "print(np.sum(diff))"
   ]
  },
  {
   "cell_type": "code",
   "execution_count": null,
   "id": "670ddcd7-ed09-434a-8846-1bafb4d6f9bb",
   "metadata": {},
   "outputs": [],
   "source": [
    "# Level 2: Count occurrences of each number in both lists and sum their products multiplied by the number itself\n",
    "from collections import Counter\n",
    "counts = [Counter(l) for l in np.asarray(sort)]\n",
    "print(sum([counts[0][i] * counts[1][i] * i for i in set(counts[0].keys()) & set(counts[1].keys())]))"
   ]
  }
 ],
 "metadata": {
  "kernelspec": {
   "display_name": "Python 3 (ipykernel)",
   "language": "python",
   "name": "python3"
  },
  "language_info": {
   "codemirror_mode": {
    "name": "ipython",
    "version": 3
   },
   "file_extension": ".py",
   "mimetype": "text/x-python",
   "name": "python",
   "nbconvert_exporter": "python",
   "pygments_lexer": "ipython3",
   "version": "3.12.3"
  }
 },
 "nbformat": 4,
 "nbformat_minor": 5
}
