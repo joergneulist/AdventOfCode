{
 "cells": [
  {
   "cell_type": "code",
   "execution_count": null,
   "id": "f504bcca-d278-4628-8d6f-2da15ab4b453",
   "metadata": {},
   "outputs": [],
   "source": [
    "%load_ext autoreload\n",
    "%autoreload 2\n",
    "from aoc.lib import load, timing\n",
    "\n",
    "YEAR = 2024\n",
    "DAY = 1\n",
    "TEST = False\n",
    "TESTDATA = '3   4\\n4   3\\n2   5\\n1   3\\n3   9\\n3   3\\n'"
   ]
  },
  {
   "cell_type": "code",
   "execution_count": null,
   "id": "ab695477-5c44-489c-921c-e3aa5605e477",
   "metadata": {},
   "outputs": [],
   "source": [
    "import numpy as np\n",
    "@timing\n",
    "def prepare_data():\n",
    "    data = load(YEAR, DAY, split_lines=True, test=TESTDATA if TEST else None)\n",
    "    # Create a matrix and transpose\n",
    "    return np.matrix([[int(i) for i in row.split()] for row in data['split']]).transpose()"
   ]
  },
  {
   "cell_type": "code",
   "execution_count": null,
   "id": "dc9ba5f6-b951-4b18-b18e-ace6e78e7bf0",
   "metadata": {},
   "outputs": [],
   "source": [
    "# Level 1: Sort rows, calculate their element distance and sum that\n",
    "@timing\n",
    "def level1(mat):\n",
    "    sort = np.sort(mat)\n",
    "    diff = np.abs(sort[1] - sort[0])\n",
    "    return np.sum(diff)\n",
    "\n",
    "    \n",
    "mat = prepare_data()\n",
    "print(level1(mat))"
   ]
  },
  {
   "cell_type": "code",
   "execution_count": null,
   "id": "582948ce-c16c-41d8-842a-a2799393ed88",
   "metadata": {},
   "outputs": [],
   "source": [
    "# Level 2: Count occurrences of each number in both lists and sum their products multiplied by the number itself\n",
    "from collections import Counter\n",
    "@timing\n",
    "def level2(mat):\n",
    "    sort = np.sort(mat)\n",
    "    counts = [Counter(l) for l in np.asarray(sort)]\n",
    "    return sum([counts[0][i] * counts[1][i] * i for i in set(counts[0].keys()) & set(counts[1].keys())])\n",
    "\n",
    "\n",
    "mat = prepare_data()\n",
    "print(level2(mat))"
   ]
  }
 ],
 "metadata": {
  "kernelspec": {
   "display_name": "Python 3 (ipykernel)",
   "language": "python",
   "name": "python3"
  },
  "language_info": {
   "codemirror_mode": {
    "name": "ipython",
    "version": 3
   },
   "file_extension": ".py",
   "mimetype": "text/x-python",
   "name": "python",
   "nbconvert_exporter": "python",
   "pygments_lexer": "ipython3",
   "version": "3.12.3"
  }
 },
 "nbformat": 4,
 "nbformat_minor": 5
}
