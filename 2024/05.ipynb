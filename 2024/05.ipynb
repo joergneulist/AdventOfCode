{
 "cells": [
  {
   "cell_type": "code",
   "execution_count": null,
   "id": "bf78680f-19b9-46ac-9913-dd3e193895f2",
   "metadata": {},
   "outputs": [],
   "source": [
    "%load_ext autoreload\n",
    "%autoreload 2\n",
    "from aoc.lib import load, timing\n",
    "\n",
    "YEAR = 2024\n",
    "DAY = 5\n",
    "TEST = False\n",
    "TESTDATA = '47|53\\n97|13\\n97|61\\n97|47\\n75|29\\n61|13\\n75|53\\n29|13\\n97|29\\n53|29\\n61|53\\n97|53\\n61|29\\n47|13\\n75|47\\n97|75\\n47|61\\n75|61\\n47|29\\n75|13\\n53|13\\n\\n75,47,61,53,29\\n97,61,53,29,13\\n75,29,13\\n75,97,47,61,53\\n61,13,29\\n97,13,75,29,47\\n"
   ]
  },
  {
   "cell_type": "code",
   "execution_count": null,
   "id": "ab695477-5c44-489c-921c-e3aa5605e477",
   "metadata": {},
   "outputs": [],
   "source": [
    "from collections import defaultdict\n",
    "\n",
    "@timing\n",
    "def prepare_data():\n",
    "    data = load(YEAR, DAY, split_lines=True, test=TESTDATA if TEST else None)\n",
    "\n",
    "    # parse rules and updates\n",
    "    data['rules'] = defaultdict(lambda:{'before': set(), 'after': set()})\n",
    "    data['updates'] = []\n",
    "    \n",
    "    it = iter(data['split'])\n",
    "    while (row := next(it)) != '':\n",
    "        a, b = (int(i) for i in row.split('|'))\n",
    "        data['rules'][a]['after'].add(b)\n",
    "        data['rules'][b]['before'].add(a)\n",
    "\n",
    "    for row in it:\n",
    "        data['updates'].append([int(a) for a in row.split(',')])\n",
    "\n",
    "    return data"
   ]
  },
  {
   "cell_type": "code",
   "execution_count": null,
   "id": "670ddcd7-ed09-434a-8846-1bafb4d6f9bb",
   "metadata": {},
   "outputs": [],
   "source": [
    "# Level 1: find all updates where all rules are fulfilled and sum their middle page numbers\n",
    "def is_good(data, update):\n",
    "    before = set()\n",
    "    after = set(update)\n",
    "    for num in update:\n",
    "        rules = data['rules'][num]\n",
    "        if     len(set.intersection(rules['after'], before)) > 0 \\\n",
    "            or len(set.intersection(rules['before'], after)) > 0:\n",
    "            return False\n",
    "        before.add(num)\n",
    "        after.remove(num)\n",
    "    return True\n",
    "\n",
    "@timing\n",
    "def level1(data):\n",
    "    good = [upd for upd in data['updates'] if is_good(data, upd)]\n",
    "    return sum([l[(len(l)-1)//2] for l in good])\n",
    "\n",
    "\n",
    "data = prepare_data()\n",
    "print(level1(data))"
   ]
  },
  {
   "cell_type": "code",
   "execution_count": null,
   "id": "9a50803f-4bc6-4b38-8374-e88c66d83666",
   "metadata": {},
   "outputs": [],
   "source": [
    "# Level 2: Correct the incorrect updates and sum their middle page numbers\n",
    "def fix_update(data, update):\n",
    "    if len(update) == 0:\n",
    "        return []\n",
    "    # find the number that goes front\n",
    "    # first, identify those with no 'before' dependencies in this update\n",
    "    no_before = set([num for num in update if len(set.intersection(update, data['rules'][num]['before'])) == 0])\n",
    "    # eliminate those that appear in the 'after' dependencies of the remaining set\n",
    "    after = [data['rules'][n]['after'] for n in no_before]\n",
    "    starters = set.difference(no_before, set.union(*after))\n",
    "    # pick the first of these and recurse\n",
    "    first = list(starters)[0]\n",
    "    update.remove(first)\n",
    "    return [first] + fix_update(data, update)\n",
    "\n",
    "@timing\n",
    "def level2(data):\n",
    "    bad = [upd for upd in data['updates'] if not is_good(data, upd)]\n",
    "    fixed = [fix_update(data, set(upd)) for upd in bad]\n",
    "    return sum([l[(len(l)-1)//2] for l in fixed])\n",
    "\n",
    "data = prepare_data()\n",
    "print(level2(data))"
   ]
  }
 ],
 "metadata": {
  "kernelspec": {
   "display_name": "Python 3 (ipykernel)",
   "language": "python",
   "name": "python3"
  },
  "language_info": {
   "codemirror_mode": {
    "name": "ipython",
    "version": 3
   },
   "file_extension": ".py",
   "mimetype": "text/x-python",
   "name": "python",
   "nbconvert_exporter": "python",
   "pygments_lexer": "ipython3",
   "version": "3.12.3"
  }
 },
 "nbformat": 4,
 "nbformat_minor": 5
}
