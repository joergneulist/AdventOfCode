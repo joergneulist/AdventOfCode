{
 "cells": [
  {
   "cell_type": "code",
   "execution_count": null,
   "id": "ab695477-5c44-489c-921c-e3aa5605e477",
   "metadata": {},
   "outputs": [],
   "source": [
    "%load_ext autoreload\n",
    "%autoreload 2\n",
    "from aoc.lib import load, timing\n",
    "\n",
    "YEAR = 2024\n",
    "DAY = 11\n",
    "TEST = False\n",
    "TESTDATA = '125 17'"
   ]
  },
  {
   "cell_type": "code",
   "execution_count": null,
   "id": "53a046ca-789a-4377-9846-fdea8ac4c928",
   "metadata": {},
   "outputs": [],
   "source": [
    "from aoc.lib import CharGrid\n",
    "import networkx as nx\n",
    "from collections import Counter\n",
    "\n",
    "@timing\n",
    "def prepare_data():\n",
    "    data = load(YEAR, DAY, test=TESTDATA if TEST else None)\n",
    "    return Counter([int(n) for n in data['raw'].split()])"
   ]
  },
  {
   "cell_type": "code",
   "execution_count": null,
   "id": "dc9ba5f6-b951-4b18-b18e-ace6e78e7bf0",
   "metadata": {},
   "outputs": [],
   "source": [
    "from math import log10\n",
    "from collections import defaultdict\n",
    "\n",
    "def blink_once(number):\n",
    "    if number == 0:\n",
    "        return [1]\n",
    "    else:\n",
    "        length = int(log10(number)) + 1\n",
    "        if length % 2 == 0:\n",
    "            factor = 10 ** (length // 2)\n",
    "            upper = number // factor\n",
    "            lower = number - upper * factor\n",
    "            return [upper, lower]\n",
    "        else:\n",
    "            return [number * 2024]\n",
    "    \n",
    "def step(counts):\n",
    "    new_counts = defaultdict(int)\n",
    "    for num in counts:\n",
    "        for res in blink_once(num):\n",
    "            new_counts[res] += counts[num]\n",
    "    return new_counts"
   ]
  },
  {
   "cell_type": "code",
   "execution_count": null,
   "id": "670ddcd7-ed09-434a-8846-1bafb4d6f9bb",
   "metadata": {},
   "outputs": [],
   "source": [
    "# Level 1:\n",
    "@timing\n",
    "def level1(counts):\n",
    "    for i in range(1, 26):\n",
    "        counts = step(counts)\n",
    "    return sum(counts.values())\n",
    "\n",
    "\n",
    "counts = prepare_data()\n",
    "print(level1(counts))"
   ]
  },
  {
   "cell_type": "code",
   "execution_count": null,
   "id": "9a50803f-4bc6-4b38-8374-e88c66d83666",
   "metadata": {},
   "outputs": [],
   "source": [
    "# Level 2:\n",
    "@timing\n",
    "def level2(counts):\n",
    "    for i in range(1, 76):\n",
    "        counts = step(counts)\n",
    "    return sum(counts.values())\n",
    "\n",
    "\n",
    "counts = prepare_data()\n",
    "print(level2(counts))"
   ]
  }
 ],
 "metadata": {
  "kernelspec": {
   "display_name": "Python 3 (ipykernel)",
   "language": "python",
   "name": "python3"
  },
  "language_info": {
   "codemirror_mode": {
    "name": "ipython",
    "version": 3
   },
   "file_extension": ".py",
   "mimetype": "text/x-python",
   "name": "python",
   "nbconvert_exporter": "python",
   "pygments_lexer": "ipython3",
   "version": "3.12.3"
  }
 },
 "nbformat": 4,
 "nbformat_minor": 5
}
