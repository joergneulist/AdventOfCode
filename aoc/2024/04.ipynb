{
 "cells": [
  {
   "cell_type": "code",
   "execution_count": null,
   "id": "a14d70f4-7602-4e68-a495-e84643bf07be",
   "metadata": {},
   "outputs": [],
   "source": [
    "%load_ext autoreload\n",
    "%autoreload 2\n",
    "from aoc.lib import load, timing\n",
    "\n",
    "YEAR = 2024\n",
    "DAY = 4\n",
    "TEST = False\n",
    "TESTDATA = 'MMMSXXMASM\\nMSAMXMSMSA\\nAMXSXMAAMM\\nMSAMASMSMX\\nXMASAMXAMM\\nXXAMMXXAMA\\nSMSMSASXSS\\nSAXAMASAAA\\nMAMMMXMMMM\\nMXMXAXMASX\\n'"
   ]
  },
  {
   "cell_type": "code",
   "execution_count": null,
   "id": "ab695477-5c44-489c-921c-e3aa5605e477",
   "metadata": {},
   "outputs": [],
   "source": [
    "from aoc.lib import CharGrid\n",
    "import fnmatch\n",
    "\n",
    "class WordGrid(CharGrid):\n",
    "    @classmethod\n",
    "    def rot(self, grid):\n",
    "        return [''.join(tup)[::-1] for tup in zip(*grid)]\n",
    "        \n",
    "    def count(self, pattern):\n",
    "        matches = [[] for i in range(len(pattern))]\n",
    "        for y, row in enumerate(self.grid):\n",
    "            for i, query in enumerate(pattern):\n",
    "                n = len(query)\n",
    "                for x in range(len(row) - n + 1):\n",
    "                    if fnmatch.fnmatch(row[x:(x + n)], query):\n",
    "                        matches[i].append((x, y - i))\n",
    "        return len(set.intersection(*[set(m) for m in matches]))\n",
    "        \n",
    "    def count_4way(self, pattern):\n",
    "        p = pattern.copy()\n",
    "        result = 0\n",
    "        for i in range(4):\n",
    "            print(p)\n",
    "            result += self.count(p)\n",
    "            p = self.rot(p)\n",
    "        return result\n",
    "\n",
    "@timing\n",
    "def prepare_data():\n",
    "    data = load(YEAR, DAY, split_lines=True, test=TESTDATA if TEST else None)\n",
    "    return WordGrid(data['split'])"
   ]
  },
  {
   "cell_type": "code",
   "execution_count": null,
   "id": "670ddcd7-ed09-434a-8846-1bafb4d6f9bb",
   "metadata": {},
   "outputs": [],
   "source": [
    "# Level 1: find all instances of XMAS in the letter grid\n",
    "@timing\n",
    "def level1(grid):\n",
    "     return grid.count_4way(['XMAS']) + grid.count_4way(['X???', '?M??', '??A?', '???S'])\n",
    "\n",
    "\n",
    "grid = prepare_data()\n",
    "print(level1(grid))"
   ]
  },
  {
   "cell_type": "code",
   "execution_count": null,
   "id": "e6a41b84-d4df-4b81-9175-6ea3d1994cf8",
   "metadata": {},
   "outputs": [],
   "source": [
    "# Level 2: find all instances of \"MAS\" crossing itself in the word grid\n",
    "@timing\n",
    "def level2(grid):\n",
    "    return grid.count_4way(['M?M', '?A?', 'S?S'])\n",
    "\n",
    "grid = prepare_data()\n",
    "print(level2(grid))"
   ]
  }
 ],
 "metadata": {
  "kernelspec": {
   "display_name": "Python 3 (ipykernel)",
   "language": "python",
   "name": "python3"
  },
  "language_info": {
   "codemirror_mode": {
    "name": "ipython",
    "version": 3
   },
   "file_extension": ".py",
   "mimetype": "text/x-python",
   "name": "python",
   "nbconvert_exporter": "python",
   "pygments_lexer": "ipython3",
   "version": "3.12.3"
  }
 },
 "nbformat": 4,
 "nbformat_minor": 5
}
