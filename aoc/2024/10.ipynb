{
 "cells": [
  {
   "cell_type": "code",
   "execution_count": null,
   "id": "ab695477-5c44-489c-921c-e3aa5605e477",
   "metadata": {},
   "outputs": [],
   "source": [
    "%load_ext autoreload\n",
    "%autoreload 2\n",
    "from aoc.lib import load, timing\n",
    "\n",
    "YEAR = 2024\n",
    "DAY = 10\n",
    "TEST = False\n",
    "TESTDATA = '89010123\\n78121874\\n87430965\\n96549874\\n45678903\\n32019012\\n01329801\\n10456732\\n'"
   ]
  },
  {
   "cell_type": "code",
   "execution_count": null,
   "id": "dc9ba5f6-b951-4b18-b18e-ace6e78e7bf0",
   "metadata": {},
   "outputs": [],
   "source": [
    "from itertools import pairwise, product\n",
    "import numpy as np\n",
    "from collections import defaultdict\n",
    "from aoc.lib import CharGrid\n",
    "import networkx as nx\n",
    "\n",
    "@timing\n",
    "def prepare_data():\n",
    "    data = load(YEAR, DAY, split_lines=True, test=TESTDATA if TEST else None)\n",
    "    grid = CharGrid(data['split'])\n",
    "    lows = set()\n",
    "    highs = set()\n",
    "    graph = nx.DiGraph()\n",
    "    for pos in grid.walk():\n",
    "        level = int(grid[pos])\n",
    "        if level == 0:\n",
    "            lows.add(pos)\n",
    "        elif level == 9:\n",
    "            highs.add(pos)\n",
    "        for nb in grid.neighbours(pos):\n",
    "            nb_chr = grid[nb]\n",
    "            if nb_chr is not None:\n",
    "                nb_level = int(nb_chr)\n",
    "                if level == nb_level + 1:\n",
    "                    graph.add_edge(nb, pos)\n",
    "    return grid, graph, lows, highs"
   ]
  },
  {
   "cell_type": "code",
   "execution_count": null,
   "id": "670ddcd7-ed09-434a-8846-1bafb4d6f9bb",
   "metadata": {},
   "outputs": [],
   "source": [
    "# Level 1: interpreting the data as a map, count each combination of 0 and 9 that are connected\n",
    "@timing\n",
    "def level1(grid, graph, lows, highs):\n",
    "    count = 0\n",
    "    for low, high in product(lows, highs):\n",
    "        if nx.has_path(graph, low, high):\n",
    "            count += 1\n",
    "    return count\n",
    "\n",
    "grid, graph, lows, highs = prepare_data()\n",
    "print(level1(grid, graph, lows, highs))"
   ]
  },
  {
   "cell_type": "code",
   "execution_count": null,
   "id": "9a50803f-4bc6-4b38-8374-e88c66d83666",
   "metadata": {},
   "outputs": [],
   "source": [
    "# Level 2: now count each distinct trail going from a 0 to a 9\n",
    "@timing\n",
    "def level2(grid, graph, lows, highs):\n",
    "    count = 0\n",
    "    for low, high in product(lows, highs):\n",
    "        count += sum(1 for _ in nx.all_simple_paths(graph, low, high))\n",
    "    return count\n",
    "\n",
    "grid, graph, lows, highs = prepare_data()\n",
    "print(level2(grid, graph, lows, highs))"
   ]
  }
 ],
 "metadata": {
  "kernelspec": {
   "display_name": "Python 3 (ipykernel)",
   "language": "python",
   "name": "python3"
  },
  "language_info": {
   "codemirror_mode": {
    "name": "ipython",
    "version": 3
   },
   "file_extension": ".py",
   "mimetype": "text/x-python",
   "name": "python",
   "nbconvert_exporter": "python",
   "pygments_lexer": "ipython3",
   "version": "3.12.3"
  }
 },
 "nbformat": 4,
 "nbformat_minor": 5
}
