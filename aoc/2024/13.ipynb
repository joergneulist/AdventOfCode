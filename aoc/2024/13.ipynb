{
 "cells": [
  {
   "cell_type": "code",
   "execution_count": null,
   "id": "a7f0c4df-0906-46e5-b53f-efde6023170e",
   "metadata": {
    "editable": true,
    "slideshow": {
     "slide_type": ""
    },
    "tags": []
   },
   "outputs": [],
   "source": [
    "%load_ext autoreload\n",
    "%autoreload 2\n",
    "from aoc.lib import load, timing\n",
    "\n",
    "YEAR = 2024\n",
    "DAY = 13\n",
    "TEST = False\n",
    "TESTDATA = 'Button A: X+94, Y+34\\nButton B: X+22, Y+67\\nPrize: X=8400, Y=5400\\n\\nButton A: X+26, Y+66\\nButton B: X+67, Y+21\\nPrize: X=12748, Y=12176\\n\\nButton A: X+17, Y+86\\nButton B: X+84, Y+37\\nPrize: X=7870, Y=6450\\n\\nButton A: X+69, Y+23\\nButton B: X+27, Y+71\\nPrize: X=18641, Y=10279\\n'"
   ]
  },
  {
   "cell_type": "code",
   "execution_count": null,
   "id": "ab695477-5c44-489c-921c-e3aa5605e477",
   "metadata": {
    "editable": true,
    "slideshow": {
     "slide_type": ""
    },
    "tags": []
   },
   "outputs": [],
   "source": [
    "import re\n",
    "import numpy as np\n",
    "\n",
    "@timing\n",
    "def prepare_data():\n",
    "    data = load(YEAR, DAY, split_lines=True, test=TESTDATA if TEST else None)\n",
    "\n",
    "    re_button_a = re.compile(r'Button A: X\\+(\\d+), Y\\+(\\d+)')\n",
    "    re_button_b = re.compile(r'Button B: X\\+(\\d+), Y\\+(\\d+)')\n",
    "    re_prize    = re.compile(r'Prize: X=(\\d+), Y=(\\d+)')\n",
    "    \n",
    "    machines = []\n",
    "    for i in range(0, len(data['split']), 4):\n",
    "        parse = {}\n",
    "        result = re_button_a.search(data['split'][i+0])\n",
    "        parse['a'] = np.array([int(result.group(i)) for i in range(1, 3)] + [0])\n",
    "        result = re_button_b.search(data['split'][i+1])\n",
    "        parse['b'] = np.array([int(result.group(i)) for i in range(1, 3)] + [0])\n",
    "        result = re_prize.search(data['split'][i+2])\n",
    "        parse['p'] = np.array([int(result.group(i)) for i in range(1, 3)] + [0])\n",
    "        machines.append(parse)\n",
    "    \n",
    "    return machines"
   ]
  },
  {
   "cell_type": "code",
   "execution_count": null,
   "id": "1dd2ed1a-e1b1-4f75-bbac-ec1b356ff041",
   "metadata": {},
   "outputs": [],
   "source": [
    "# Level 1\n",
    "def eval_machine(mach):\n",
    "    divisor = np.cross(mach['a'], mach['b'])[2]\n",
    "    if divisor != 0:\n",
    "        press_a = np.cross(mach['p'], mach['b'])[2] // divisor\n",
    "        press_b = np.cross(mach['a'], mach['p'])[2] // divisor\n",
    "        # verify\n",
    "        if all(press_a * mach['a'] + press_b * mach['b'] == mach['p']):\n",
    "            return 3 * press_a + press_b\n",
    "    return 0\n",
    "\n",
    "\n",
    "@timing\n",
    "def level1(machines):\n",
    "    results = [eval_machine(mach) for mach in machines]\n",
    "    return sum(results)\n",
    "\n",
    "\n",
    "machines = prepare_data()\n",
    "print(level1(machines))"
   ]
  },
  {
   "cell_type": "code",
   "execution_count": null,
   "id": "dc9ba5f6-b951-4b18-b18e-ace6e78e7bf0",
   "metadata": {},
   "outputs": [],
   "source": [
    "# Level 2:\n",
    "@timing\n",
    "def level2(machines):\n",
    "    offset = 10000000000000\n",
    "    offset = np.array([offset, offset, 0])\n",
    "    for mach in machines:\n",
    "        mach['p'] += offset\n",
    "        \n",
    "    results = [eval_machine(mach) for mach in machines]\n",
    "    return sum(results)\n",
    "\n",
    "\n",
    "machines = prepare_data()\n",
    "print(level2(machines))"
   ]
  }
 ],
 "metadata": {
  "kernelspec": {
   "display_name": "Python 3 (ipykernel)",
   "language": "python",
   "name": "python3"
  },
  "language_info": {
   "codemirror_mode": {
    "name": "ipython",
    "version": 3
   },
   "file_extension": ".py",
   "mimetype": "text/x-python",
   "name": "python",
   "nbconvert_exporter": "python",
   "pygments_lexer": "ipython3",
   "version": "3.12.3"
  }
 },
 "nbformat": 4,
 "nbformat_minor": 5
}
