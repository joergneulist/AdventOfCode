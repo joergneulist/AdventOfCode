{
 "cells": [
  {
   "cell_type": "code",
   "execution_count": null,
   "id": "0a42e67e-56d2-4cd3-a8d2-b8f57ed2209f",
   "metadata": {},
   "outputs": [],
   "source": [
    "%load_ext autoreload\n",
    "%autoreload 2\n",
    "from aoc.lib import load, timing\n",
    "\n",
    "YEAR = 2024\n",
    "DAY = 3\n",
    "TEST = False\n",
    "TESTDATA = 'xmul(2,4)&mul[3,7]!^don\\'t()_mul(5,5)+mul(32,64](mul(11,8)undo()?mul(8,5))'"
   ]
  },
  {
   "cell_type": "code",
   "execution_count": null,
   "id": "ab695477-5c44-489c-921c-e3aa5605e477",
   "metadata": {},
   "outputs": [],
   "source": [
    "@timing\n",
    "def prepare_data():\n",
    "    return load(YEAR, DAY, split_lines=True, test=TESTDATA if TEST else None)"
   ]
  },
  {
   "cell_type": "code",
   "execution_count": null,
   "id": "dc9ba5f6-b951-4b18-b18e-ace6e78e7bf0",
   "metadata": {},
   "outputs": [],
   "source": [
    "# Level 1: apply regex to find all instances of \"mul($a,$b)\" without any additional characters and calculate them\n",
    "import re\n",
    "def find_muls(string):\n",
    "    return re.findall(r'mul\\((\\d+),(\\d+)\\)', string)\n",
    "    \n",
    "@timing\n",
    "def level1(string):\n",
    "    muls = find_muls(string)\n",
    "    prod = [int(a) * int(b) for a, b in muls]\n",
    "    return sum(prod)\n",
    "\n",
    "\n",
    "raw = prepare_data()['raw']\n",
    "print(level1(raw))"
   ]
  },
  {
   "cell_type": "code",
   "execution_count": null,
   "id": "670ddcd7-ed09-434a-8846-1bafb4d6f9bb",
   "metadata": {},
   "outputs": [],
   "source": [
    "# Level 2: same as before, but accept 'do()' and 'don't()' as commands to switch multiplication on and off\n",
    "@timing\n",
    "def level2(string):\n",
    "    groups = string.split('do()')\n",
    "    active = [s.split(\"don't()\")[0] for s in groups]\n",
    "    muls = sum([find_muls(s) for s in active], [])\n",
    "    prod = [int(a) * int(b) for a, b in muls]\n",
    "    return sum(prod)\n",
    "\n",
    "\n",
    "raw = prepare_data()['raw']\n",
    "print(level2(raw))"
   ]
  }
 ],
 "metadata": {
  "kernelspec": {
   "display_name": "Python 3 (ipykernel)",
   "language": "python",
   "name": "python3"
  },
  "language_info": {
   "codemirror_mode": {
    "name": "ipython",
    "version": 3
   },
   "file_extension": ".py",
   "mimetype": "text/x-python",
   "name": "python",
   "nbconvert_exporter": "python",
   "pygments_lexer": "ipython3",
   "version": "3.12.3"
  }
 },
 "nbformat": 4,
 "nbformat_minor": 5
}
